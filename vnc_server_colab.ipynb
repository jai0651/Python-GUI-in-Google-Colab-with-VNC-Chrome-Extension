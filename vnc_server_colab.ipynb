{
  "nbformat": 4,
  "nbformat_minor": 0,
  "metadata": {
    "colab": {
      "provenance": []
    },
    "kernelspec": {
      "name": "python3",
      "display_name": "Python 3"
    },
    "language_info": {
      "name": "python"
    }
  },
  "cells": [
    {
      "cell_type": "code",
      "source": [
        "# Install necessary packages\n",
        "!apt-get update\n",
        "!apt-get install -y xrdp xfce4 xfce4-goodies\n",
        "\n",
        "# Install tini (a small init tool)\n",
        "!apt-get install -y tini\n",
        "\n",
        "# Install VNC server\n",
        "!apt-get install -y tightvncserver\n",
        "\n",
        "!pip install websockify\n",
        "\n",
        "#install noVNC client\n",
        "!git clone https://github.com/novnc/noVNC.git /usr/share/novnc\n"
      ],
      "metadata": {
        "id": "_-Sx0L2tgTy0"
      },
      "execution_count": null,
      "outputs": []
    },
    {
      "cell_type": "code",
      "source": [
        "# Set up XRDP\n",
        "!echo xfce4-session > ~/.xsession\n",
        "!sudo service xrdp start\n",
        "!sudo service xrdp-sesman start"
      ],
      "metadata": {
        "id": "LAC4eGs6_J3Q"
      },
      "execution_count": null,
      "outputs": []
    },
    {
      "cell_type": "code",
      "source": [
        "import os\n",
        "# Set the USER environment variable\n",
        "os.environ['USER'] = 'colab_user'  # Set a username for the VNC server\n"
      ],
      "metadata": {
        "id": "22mniMJDimpX"
      },
      "execution_count": 5,
      "outputs": []
    },
    {
      "cell_type": "code",
      "source": [
        "# Set up a password for VNC\n",
        "!mkdir -p ~/.vnc\n",
        "!echo \"your_vnc_password\" | vncpasswd -f > ~/.vnc/passwd   #8 characters long\n",
        "!chmod 600 ~/.vnc/passwd\n",
        "\n",
        "# Start VNC server\n",
        "!vncserver :1 -geometry 1280x800 -depth 24"
      ],
      "metadata": {
        "id": "UhYRpue6jeoG"
      },
      "execution_count": null,
      "outputs": []
    },
    {
      "cell_type": "code",
      "source": [
        "#your colab ip-address\n",
        "!curl ipecho.net/plain"
      ],
      "metadata": {
        "colab": {
          "base_uri": "https://localhost:8080/"
        },
        "id": "fUEsqb1uiHkA",
        "outputId": "98215f69-e480-4bc7-f055-191dcaf99190"
      },
      "execution_count": 7,
      "outputs": [
        {
          "output_type": "stream",
          "name": "stdout",
          "text": [
            "34.16.145.144"
          ]
        }
      ]
    },
    {
      "cell_type": "code",
      "source": [
        "!ln -s /usr/share/novnc /usr/local/lib/python3.10/dist-packages/websockify/novnc\n",
        "!websockify -D --web=/usr/share/novnc/ --cert=/etc/ssl/novnc.pem 6080 localhost:5901"
      ],
      "metadata": {
        "id": "m_0Nn1UhVmYZ"
      },
      "execution_count": null,
      "outputs": []
    },
    {
      "cell_type": "code",
      "source": [
        "!pip install pyngrok\n",
        "from pyngrok import ngrok"
      ],
      "metadata": {
        "id": "ciVK1c7AX2xP"
      },
      "execution_count": null,
      "outputs": []
    },
    {
      "cell_type": "code",
      "source": [
        "#your ngrok Authentication token\n",
        "!ngrok authtoken \"your token\""
      ],
      "metadata": {
        "colab": {
          "base_uri": "https://localhost:8080/"
        },
        "id": "-oG3rOoqYLmr",
        "outputId": "3a4c2ac5-d7d5-4d12-98e0-e2c41c80e350"
      },
      "execution_count": 10,
      "outputs": [
        {
          "output_type": "stream",
          "name": "stdout",
          "text": [
            "Authtoken saved to configuration file: /root/.config/ngrok/ngrok.yml\n"
          ]
        }
      ]
    },
    {
      "cell_type": "code",
      "source": [
        "# Set up a tunnel to the VNC server\n",
        "public_url = ngrok.connect(6080, bind_tls=True)\n",
        "public_url"
      ],
      "metadata": {
        "colab": {
          "base_uri": "https://localhost:8080/"
        },
        "id": "XA8QK5cedIgw",
        "outputId": "f9d359d3-7bd6-445d-fc3f-a29205b72eb0"
      },
      "execution_count": 11,
      "outputs": [
        {
          "output_type": "execute_result",
          "data": {
            "text/plain": [
              "<NgrokTunnel: \"https://55f1-34-16-145-144.ngrok-free.app\" -> \"http://localhost:6080\">"
            ]
          },
          "metadata": {},
          "execution_count": 11
        }
      ]
    },
    {
      "cell_type": "code",
      "source": [
        "# !apt-get install -y xvfb # Install X Virtual Frame Buffer\n",
        "# import os\n",
        "# os.system('Xvfb :1 -screen 0 1600x1200x16  &')  # start it\n",
        "# os.environ['DISPLAY']=':1.0'"
      ],
      "metadata": {
        "id": "UfHTH0G7n2P6"
      },
      "execution_count": null,
      "outputs": []
    },
    {
      "cell_type": "code",
      "source": [
        "!apt-get install -y python3-tk"
      ],
      "metadata": {
        "id": "qDVkXnVi6Yus"
      },
      "execution_count": null,
      "outputs": []
    },
    {
      "cell_type": "code",
      "source": [
        "import tkinter as tk\n",
        "\n",
        "def on_button_click():\n",
        "    label.config(text=\"Hello, \" + entry.get())\n",
        "# Set the DISPLAY environment variable to the VNC server address\n",
        "import os\n",
        "os.environ['DISPLAY'] = ':1'\n",
        "# Create the main window\n",
        "window = tk.Tk()\n",
        "window.title(\"Tkinter Example\")\n",
        "\n",
        "# Create and pack widgets\n",
        "label = tk.Label(window, text=\"Enter your name:\")\n",
        "label.pack()\n",
        "\n",
        "entry = tk.Entry(window)\n",
        "entry.pack()\n",
        "\n",
        "button = tk.Button(window, text=\"Say Hello\", command=on_button_click)\n",
        "button.pack()\n",
        "\n",
        "# Start the main loop\n",
        "window.mainloop()\n"
      ],
      "metadata": {
        "id": "CFwZ988ABqJz"
      },
      "execution_count": 13,
      "outputs": []
    },
    {
      "cell_type": "code",
      "source": [],
      "metadata": {
        "id": "hyua6CWDBu38"
      },
      "execution_count": null,
      "outputs": []
    }
  ]
}